{
 "cells": [
  {
   "cell_type": "code",
   "execution_count": 1,
   "metadata": {},
   "outputs": [],
   "source": [
    "import numpy as np\n",
    "import emcee   #Install following https://emcee.readthedocs.io/en/stable/user/install/\n",
    "import corner   #Install following https://emcee.readthedocs.io/en/stable/user/install/\n",
    "import matplotlib.pyplot as plt"
   ]
  },
  {
   "cell_type": "markdown",
   "metadata": {},
   "source": [
    "En este notebook veremos un par de ejemplos sencillos del uso de la libreria emcee para realizar inferencia bayesiana. \n",
    "\n",
    "      1.- Recta. Sigue muy de cerca el ejemplo en https://emcee.readthedocs.io/en/stable/tutorials/line/ excepto la parte de generar los datos.\n",
    "      \n",
    "      2.- COVID. Basado en https://arxiv.org/abs/2010.03097"
   ]
  },
  {
   "cell_type": "markdown",
   "metadata": {},
   "source": [
    "## 1. Ejemplo recta. "
   ]
  },
  {
   "cell_type": "code",
   "execution_count": 2,
   "metadata": {},
   "outputs": [],
   "source": [
    "# Cargamos y graficamos los datos"
   ]
  },
  {
   "cell_type": "code",
   "execution_count": 3,
   "metadata": {},
   "outputs": [
    {
     "data": {
      "text/plain": [
       "Text(0, 0.5, 'y')"
      ]
     },
     "execution_count": 3,
     "metadata": {},
     "output_type": "execute_result"
    },
    {
     "data": {
      "image/png": "[encoded data removed]",
      "text/plain": [
       "<Figure size 432x288 with 1 Axes>"
      ]
     },
     "metadata": {
      "needs_background": "light"
     },
     "output_type": "display_data"
    }
   ],
   "source": [
    "data_test=np.load(\"/Users/almagonzalez/Documents/cursos/DataAnalysis/DCIDA2020II/data/test_line.npy\")\n",
    "x,y,yerr=data_test\n",
    "plt.errorbar(x,y,yerr,fmt='.')\n",
    "plt.xlabel('x')\n",
    "plt.ylabel('y')"
   ]
  },
  {
   "cell_type": "code",
   "execution_count": 4,
   "metadata": {},
   "outputs": [
    {
     "data": {
      "text/plain": [
       "array([17.68158841, -5.03133689, 16.58577924, 13.74440762,  2.87670665,\n",
       "        6.82112915,  7.36724007, 30.33018382,  4.2901266 , 25.20427512,\n",
       "       -9.21174822, -1.65378113, -6.43187287, 11.2999903 , 23.58489527])"
      ]
     },
     "execution_count": 4,
     "metadata": {},
     "output_type": "execute_result"
    }
   ],
   "source": [
    "yerr"
   ]
  },
  {
   "cell_type": "markdown",
   "metadata": {},
   "source": [
    "De acuerdo con la gráfica arriba efectivamente un modelo de una recta, de la forma \n",
    "\n",
    "$y=m*x+b$\n",
    "\n",
    "parece lo mas factible,\n",
    "y debemos encontrar los valores de pendiente (m) y ordenada al origen (b). \n",
    "\n",
    "Basado en la gráfica podemos ver que los siguientes priors planos podrían ser usados: \n",
    "\n",
    "$100<b<300$\n",
    "\n",
    "$0<m<100$"
   ]
  },
  {
   "cell_type": "code",
   "execution_count": 5,
   "metadata": {},
   "outputs": [],
   "source": [
    "#definimos aquí todas las funciones a usar, i.e. modelo, posterior, likelihood, etc..."
   ]
  },
  {
   "cell_type": "code",
   "execution_count": 6,
   "metadata": {},
   "outputs": [],
   "source": [
    "def linea(x,m,b):\n",
    "    return m*x+b"
   ]
  },
  {
   "cell_type": "code",
   "execution_count": 7,
   "metadata": {},
   "outputs": [],
   "source": [
    "def lnprior_(theta):\n",
    "    m,b=theta\n",
    "    if 0<m<100 and 100<b<300:\n",
    "        return 0   #prior=1/(min-max)\n",
    "    return -np.inf \n",
    "\n",
    "def lnlike_(theta,x,y,yerr):  #Gaussiano\n",
    "    m,b=theta\n",
    "    sigma2=yerr**2\n",
    "    model=linea(x,m,b)\n",
    "    llike=-0.5*np.sum((y-model)**2/sigma2)\n",
    "    return llike\n",
    "    \n",
    "def lnpost_(theta,x,y,yerr):\n",
    "    lnprior=lnprior_(theta)\n",
    "    if not np.isfinite(lnprior):\n",
    "        return -np.inf\n",
    "    lnlike=lnlike_(theta,x,y,yerr)\n",
    "    lnpost=lnlike+lnprior\n",
    "    return lnpost"
   ]
  },
  {
   "cell_type": "code",
   "execution_count": 8,
   "metadata": {},
   "outputs": [
    {
     "name": "stderr",
     "output_type": "stream",
     "text": [
      "100%|██████████| 5000/5000 [00:13<00:00, 380.35it/s]\n"
     ]
    }
   ],
   "source": [
    "pos_ini=[50,200]\n",
    "\n",
    "nwalkers, ndim = 32,2\n",
    "chain_len=5000\n",
    "pos = pos_ini+ 1e-4 * np.random.randn(nwalkers, ndim)\n",
    "\n",
    "sampler = emcee.EnsembleSampler(nwalkers, ndim, lnpost_,args=(data_test[0],data_test[1],data_test[2]))\n",
    "sampler.run_mcmc(pos,chain_len, progress=True);"
   ]
  },
  {
   "cell_type": "code",
   "execution_count": 9,
   "metadata": {},
   "outputs": [
    {
     "data": {
      "text/plain": [
       "<emcee.ensemble.EnsembleSampler at 0x7fe32f4ddc10>"
      ]
     },
     "execution_count": 9,
     "metadata": {},
     "output_type": "execute_result"
    }
   ],
   "source": [
    "sampler"
   ]
  },
  {
   "cell_type": "code",
   "execution_count": 26,
   "metadata": {},
   "outputs": [
    {
     "data": {
      "text/plain": [
       "\u001b[0;31mSignature:\u001b[0m \u001b[0msampler\u001b[0m\u001b[0;34m.\u001b[0m\u001b[0mget_chain\u001b[0m\u001b[0;34m(\u001b[0m\u001b[0;34m**\u001b[0m\u001b[0mkwargs\u001b[0m\u001b[0;34m)\u001b[0m\u001b[0;34m\u001b[0m\u001b[0;34m\u001b[0m\u001b[0m\n",
       "\u001b[0;31mDocstring:\u001b[0m\n",
       "Get the stored chain of MCMC samples\n",
       "\n",
       "Args:\n",
       "    flat (Optional[bool]): Flatten the chain across the ensemble.\n",
       "        (default: ``False``)\n",
       "    thin (Optional[int]): Take only every ``thin`` steps from the\n",
       "        chain. (default: ``1``)\n",
       "    discard (Optional[int]): Discard the first ``discard`` steps in\n",
       "        the chain as burn-in. (default: ``0``)\n",
       "\n",
       "Returns:\n",
       "    array[..., nwalkers, ndim]: The MCMC samples.\n",
       "\u001b[0;31mFile:\u001b[0m      ~/miniconda3.8/envs/DA2020II/lib/python3.7/site-packages/emcee/ensemble.py\n",
       "\u001b[0;31mType:\u001b[0m      method\n"
      ]
     },
     "metadata": {},
     "output_type": "display_data"
    }
   ],
   "source": [
    "sampler.get_chain?"
   ]
  },
  {
   "cell_type": "code",
   "execution_count": 18,
   "metadata": {},
   "outputs": [
    {
     "name": "stdout",
     "output_type": "stream",
     "text": [
      "(156800, 2)\n"
     ]
    }
   ],
   "source": [
    "flat_samples = sampler.get_chain(discard=100, flat=True)\n",
    "print(flat_samples.shape)"
   ]
  },
  {
   "cell_type": "code",
   "execution_count": 19,
   "metadata": {},
   "outputs": [
    {
     "data": {
      "image/png": "[encoded data removed]",
      "text/plain": [
       "<Figure size 396x396 with 4 Axes>"
      ]
     },
     "metadata": {
      "needs_background": "light"
     },
     "output_type": "display_data"
    }
   ],
   "source": [
    "import corner\n",
    "m_true,b_true=30,200\n",
    "fig = corner.corner(\n",
    "    flat_samples, labels=['m','b'], truths=[m_true, b_true]);"
   ]
  },
  {
   "cell_type": "code",
   "execution_count": 20,
   "metadata": {},
   "outputs": [],
   "source": [
    "#Note that the recovered values are not corresponding the truth values, and this is because the errors in our fake data are not to be trusted and we are not doing anything special to model them... \n",
    "#One way to improve this would be to try to add free parameters to the variaance... \n",
    "\n",
    "#The next excersise is to implement the use of emcee for your own code routines..."
   ]
  },
  {
   "cell_type": "code",
   "execution_count": 21,
   "metadata": {},
   "outputs": [
    {
     "data": {
      "text/plain": [
       "\u001b[0;31mSignature:\u001b[0m\n",
       "\u001b[0mcorner\u001b[0m\u001b[0;34m.\u001b[0m\u001b[0mcorner\u001b[0m\u001b[0;34m(\u001b[0m\u001b[0;34m\u001b[0m\n",
       "\u001b[0;34m\u001b[0m    \u001b[0mxs\u001b[0m\u001b[0;34m,\u001b[0m\u001b[0;34m\u001b[0m\n",
       "\u001b[0;34m\u001b[0m    \u001b[0mbins\u001b[0m\u001b[0;34m=\u001b[0m\u001b[0;36m20\u001b[0m\u001b[0;34m,\u001b[0m\u001b[0;34m\u001b[0m\n",
       "\u001b[0;34m\u001b[0m    \u001b[0mrange\u001b[0m\u001b[0;34m=\u001b[0m\u001b[0;32mNone\u001b[0m\u001b[0;34m,\u001b[0m\u001b[0;34m\u001b[0m\n",
       "\u001b[0;34m\u001b[0m    \u001b[0mweights\u001b[0m\u001b[0;34m=\u001b[0m\u001b[0;32mNone\u001b[0m\u001b[0;34m,\u001b[0m\u001b[0;34m\u001b[0m\n",
       "\u001b[0;34m\u001b[0m    \u001b[0mcolor\u001b[0m\u001b[0;34m=\u001b[0m\u001b[0;34m'k'\u001b[0m\u001b[0;34m,\u001b[0m\u001b[0;34m\u001b[0m\n",
       "\u001b[0;34m\u001b[0m    \u001b[0mhist_bin_factor\u001b[0m\u001b[0;34m=\u001b[0m\u001b[0;36m1\u001b[0m\u001b[0;34m,\u001b[0m\u001b[0;34m\u001b[0m\n",
       "\u001b[0;34m\u001b[0m    \u001b[0msmooth\u001b[0m\u001b[0;34m=\u001b[0m\u001b[0;32mNone\u001b[0m\u001b[0;34m,\u001b[0m\u001b[0;34m\u001b[0m\n",
       "\u001b[0;34m\u001b[0m    \u001b[0msmooth1d\u001b[0m\u001b[0;34m=\u001b[0m\u001b[0;32mNone\u001b[0m\u001b[0;34m,\u001b[0m\u001b[0;34m\u001b[0m\n",
       "\u001b[0;34m\u001b[0m    \u001b[0mlabels\u001b[0m\u001b[0;34m=\u001b[0m\u001b[0;32mNone\u001b[0m\u001b[0;34m,\u001b[0m\u001b[0;34m\u001b[0m\n",
       "\u001b[0;34m\u001b[0m    \u001b[0mlabel_kwargs\u001b[0m\u001b[0;34m=\u001b[0m\u001b[0;32mNone\u001b[0m\u001b[0;34m,\u001b[0m\u001b[0;34m\u001b[0m\n",
       "\u001b[0;34m\u001b[0m    \u001b[0mtitles\u001b[0m\u001b[0;34m=\u001b[0m\u001b[0;32mNone\u001b[0m\u001b[0;34m,\u001b[0m\u001b[0;34m\u001b[0m\n",
       "\u001b[0;34m\u001b[0m    \u001b[0mshow_titles\u001b[0m\u001b[0;34m=\u001b[0m\u001b[0;32mFalse\u001b[0m\u001b[0;34m,\u001b[0m\u001b[0;34m\u001b[0m\n",
       "\u001b[0;34m\u001b[0m    \u001b[0mtitle_fmt\u001b[0m\u001b[0;34m=\u001b[0m\u001b[0;34m'.2f'\u001b[0m\u001b[0;34m,\u001b[0m\u001b[0;34m\u001b[0m\n",
       "\u001b[0;34m\u001b[0m    \u001b[0mtitle_kwargs\u001b[0m\u001b[0;34m=\u001b[0m\u001b[0;32mNone\u001b[0m\u001b[0;34m,\u001b[0m\u001b[0;34m\u001b[0m\n",
       "\u001b[0;34m\u001b[0m    \u001b[0mtruths\u001b[0m\u001b[0;34m=\u001b[0m\u001b[0;32mNone\u001b[0m\u001b[0;34m,\u001b[0m\u001b[0;34m\u001b[0m\n",
       "\u001b[0;34m\u001b[0m    \u001b[0mtruth_color\u001b[0m\u001b[0;34m=\u001b[0m\u001b[0;34m'#4682b4'\u001b[0m\u001b[0;34m,\u001b[0m\u001b[0;34m\u001b[0m\n",
       "\u001b[0;34m\u001b[0m    \u001b[0mscale_hist\u001b[0m\u001b[0;34m=\u001b[0m\u001b[0;32mFalse\u001b[0m\u001b[0;34m,\u001b[0m\u001b[0;34m\u001b[0m\n",
       "\u001b[0;34m\u001b[0m    \u001b[0mquantiles\u001b[0m\u001b[0;34m=\u001b[0m\u001b[0;32mNone\u001b[0m\u001b[0;34m,\u001b[0m\u001b[0;34m\u001b[0m\n",
       "\u001b[0;34m\u001b[0m    \u001b[0mverbose\u001b[0m\u001b[0;34m=\u001b[0m\u001b[0;32mFalse\u001b[0m\u001b[0;34m,\u001b[0m\u001b[0;34m\u001b[0m\n",
       "\u001b[0;34m\u001b[0m    \u001b[0mfig\u001b[0m\u001b[0;34m=\u001b[0m\u001b[0;32mNone\u001b[0m\u001b[0;34m,\u001b[0m\u001b[0;34m\u001b[0m\n",
       "\u001b[0;34m\u001b[0m    \u001b[0mmax_n_ticks\u001b[0m\u001b[0;34m=\u001b[0m\u001b[0;36m5\u001b[0m\u001b[0;34m,\u001b[0m\u001b[0;34m\u001b[0m\n",
       "\u001b[0;34m\u001b[0m    \u001b[0mtop_ticks\u001b[0m\u001b[0;34m=\u001b[0m\u001b[0;32mFalse\u001b[0m\u001b[0;34m,\u001b[0m\u001b[0;34m\u001b[0m\n",
       "\u001b[0;34m\u001b[0m    \u001b[0muse_math_text\u001b[0m\u001b[0;34m=\u001b[0m\u001b[0;32mFalse\u001b[0m\u001b[0;34m,\u001b[0m\u001b[0;34m\u001b[0m\n",
       "\u001b[0;34m\u001b[0m    \u001b[0mreverse\u001b[0m\u001b[0;34m=\u001b[0m\u001b[0;32mFalse\u001b[0m\u001b[0;34m,\u001b[0m\u001b[0;34m\u001b[0m\n",
       "\u001b[0;34m\u001b[0m    \u001b[0mlabelpad\u001b[0m\u001b[0;34m=\u001b[0m\u001b[0;36m0.0\u001b[0m\u001b[0;34m,\u001b[0m\u001b[0;34m\u001b[0m\n",
       "\u001b[0;34m\u001b[0m    \u001b[0mhist_kwargs\u001b[0m\u001b[0;34m=\u001b[0m\u001b[0;32mNone\u001b[0m\u001b[0;34m,\u001b[0m\u001b[0;34m\u001b[0m\n",
       "\u001b[0;34m\u001b[0m    \u001b[0;34m**\u001b[0m\u001b[0mhist2d_kwargs\u001b[0m\u001b[0;34m,\u001b[0m\u001b[0;34m\u001b[0m\n",
       "\u001b[0;34m\u001b[0m\u001b[0;34m)\u001b[0m\u001b[0;34m\u001b[0m\u001b[0;34m\u001b[0m\u001b[0m\n",
       "\u001b[0;31mDocstring:\u001b[0m\n",
       "Make a *sick* corner plot showing the projections of a data set in a\n",
       "multi-dimensional space. kwargs are passed to hist2d() or used for\n",
       "`matplotlib` styling.\n",
       "\n",
       "Parameters\n",
       "----------\n",
       "xs : array_like[nsamples, ndim]\n",
       "    The samples. This should be a 1- or 2-dimensional array. For a 1-D\n",
       "    array this results in a simple histogram. For a 2-D array, the zeroth\n",
       "    axis is the list of samples and the next axis are the dimensions of\n",
       "    the space.\n",
       "\n",
       "bins : int or array_like[ndim,]\n",
       "    The number of bins to use in histograms, either as a fixed value for\n",
       "    all dimensions, or as a list of integers for each dimension.\n",
       "\n",
       "weights : array_like[nsamples,]\n",
       "    The weight of each sample. If `None` (default), samples are given\n",
       "    equal weight.\n",
       "\n",
       "color : str\n",
       "    A ``matplotlib`` style color for all histograms.\n",
       "\n",
       "hist_bin_factor : float or array_like[ndim,]\n",
       "    This is a factor (or list of factors, one for each dimension) that\n",
       "    will multiply the bin specifications when making the 1-D histograms.\n",
       "    This is generally used to increase the number of bins in the 1-D plots\n",
       "    to provide more resolution.\n",
       "\n",
       "smooth, smooth1d : float\n",
       "   The standard deviation for Gaussian kernel passed to\n",
       "   `scipy.ndimage.gaussian_filter` to smooth the 2-D and 1-D histograms\n",
       "   respectively. If `None` (default), no smoothing is applied.\n",
       "\n",
       "labels : iterable (ndim,)\n",
       "    A list of names for the dimensions. If a ``xs`` is a\n",
       "    ``pandas.DataFrame``, labels will default to column names.\n",
       "\n",
       "label_kwargs : dict\n",
       "    Any extra keyword arguments to send to the `set_xlabel` and\n",
       "    `set_ylabel` methods. Note that passing the `labelpad` keyword\n",
       "    in this dictionary will not have the desired effect. Use the\n",
       "    `labelpad` keyword in this function instead.\n",
       "\n",
       "titles : iterable (ndim,)\n",
       "    A list of titles for the dimensions. If `None` (default),\n",
       "    uses labels as titles.\n",
       "\n",
       "show_titles : bool\n",
       "    Displays a title above each 1-D histogram showing the 0.5 quantile\n",
       "    with the upper and lower errors supplied by the quantiles argument.\n",
       "\n",
       "title_fmt : string\n",
       "    The format string for the quantiles given in titles. If you explicitly\n",
       "    set ``show_titles=True`` and ``title_fmt=None``, the labels will be\n",
       "    shown as the titles. (default: ``.2f``)\n",
       "\n",
       "title_kwargs : dict\n",
       "    Any extra keyword arguments to send to the `set_title` command.\n",
       "\n",
       "range : iterable (ndim,)\n",
       "    A list where each element is either a length 2 tuple containing\n",
       "    lower and upper bounds or a float in range (0., 1.)\n",
       "    giving the fraction of samples to include in bounds, e.g.,\n",
       "    [(0.,10.), (1.,5), 0.999, etc.].\n",
       "    If a fraction, the bounds are chosen to be equal-tailed.\n",
       "\n",
       "truths : iterable (ndim,)\n",
       "    A list of reference values to indicate on the plots.  Individual\n",
       "    values can be omitted by using ``None``.\n",
       "\n",
       "truth_color : str\n",
       "    A ``matplotlib`` style color for the ``truths`` makers.\n",
       "\n",
       "scale_hist : bool\n",
       "    Should the 1-D histograms be scaled in such a way that the zero line\n",
       "    is visible?\n",
       "\n",
       "quantiles : iterable\n",
       "    A list of fractional quantiles to show on the 1-D histograms as\n",
       "    vertical dashed lines.\n",
       "\n",
       "verbose : bool\n",
       "    If true, print the values of the computed quantiles.\n",
       "\n",
       "plot_contours : bool\n",
       "    Draw contours for dense regions of the plot.\n",
       "\n",
       "use_math_text : bool\n",
       "    If true, then axis tick labels for very large or small exponents will\n",
       "    be displayed as powers of 10 rather than using `e`.\n",
       "\n",
       "reverse : bool\n",
       "    If true, plot the corner plot starting in the upper-right corner\n",
       "    instead of the usual bottom-left corner\n",
       "\n",
       "labelpad : float\n",
       "    Padding between the axis and the x- and y-labels in units of the\n",
       "    fraction of the axis from the lower left\n",
       "\n",
       "max_n_ticks: int\n",
       "    Maximum number of ticks to try to use\n",
       "\n",
       "top_ticks : bool\n",
       "    If true, label the top ticks of each axis\n",
       "\n",
       "fig : matplotlib.Figure\n",
       "    Overplot onto the provided figure object, which must either have no\n",
       "    axes yet, or ``ndim * ndim`` axes already present.  If not set, the\n",
       "    plot will be drawn on a newly created figure.\n",
       "\n",
       "hist_kwargs : dict\n",
       "    Any extra keyword arguments to send to the 1-D histogram plots.\n",
       "\n",
       "**hist2d_kwargs\n",
       "    Any remaining keyword arguments are sent to `corner.hist2d` to generate\n",
       "    the 2-D histogram plots.\n",
       "\u001b[0;31mFile:\u001b[0m      ~/miniconda3.8/envs/DA2020II/lib/python3.7/site-packages/corner/corner.py\n",
       "\u001b[0;31mType:\u001b[0m      function\n"
      ]
     },
     "metadata": {},
     "output_type": "display_data"
    }
   ],
   "source": [
    "corner.corner?"
   ]
  },
  {
   "cell_type": "code",
   "execution_count": 25,
   "metadata": {},
   "outputs": [
    {
     "data": {
      "text/latex": [
       "$\\displaystyle \\mathrm{a,b} = 19.356_{-2.368}^{2.353}$"
      ],
      "text/plain": [
       "<IPython.core.display.Math object>"
      ]
     },
     "metadata": {},
     "output_type": "display_data"
    },
    {
     "ename": "IndexError",
     "evalue": "list index out of range",
     "output_type": "error",
     "traceback": [
      "\u001b[0;31m---------------------------------------------------------------------------\u001b[0m",
      "\u001b[0;31mIndexError\u001b[0m                                Traceback (most recent call last)",
      "\u001b[0;32m<ipython-input-25-53a54ff80658>\u001b[0m in \u001b[0;36m<module>\u001b[0;34m\u001b[0m\n\u001b[1;32m      5\u001b[0m     \u001b[0mq\u001b[0m \u001b[0;34m=\u001b[0m \u001b[0mnp\u001b[0m\u001b[0;34m.\u001b[0m\u001b[0mdiff\u001b[0m\u001b[0;34m(\u001b[0m\u001b[0mmcmc\u001b[0m\u001b[0;34m)\u001b[0m\u001b[0;34m\u001b[0m\u001b[0;34m\u001b[0m\u001b[0m\n\u001b[1;32m      6\u001b[0m     \u001b[0mtxt\u001b[0m \u001b[0;34m=\u001b[0m \u001b[0;34m\"\\mathrm{{{3}}} = {0:.3f}_{{-{1:.3f}}}^{{{2:.3f}}}\"\u001b[0m\u001b[0;34m\u001b[0m\u001b[0;34m\u001b[0m\u001b[0m\n\u001b[0;32m----> 7\u001b[0;31m     \u001b[0mtxt\u001b[0m \u001b[0;34m=\u001b[0m \u001b[0mtxt\u001b[0m\u001b[0;34m.\u001b[0m\u001b[0mformat\u001b[0m\u001b[0;34m(\u001b[0m\u001b[0mmcmc\u001b[0m\u001b[0;34m[\u001b[0m\u001b[0;36m1\u001b[0m\u001b[0;34m]\u001b[0m\u001b[0;34m,\u001b[0m \u001b[0mq\u001b[0m\u001b[0;34m[\u001b[0m\u001b[0;36m0\u001b[0m\u001b[0;34m]\u001b[0m\u001b[0;34m,\u001b[0m \u001b[0mq\u001b[0m\u001b[0;34m[\u001b[0m\u001b[0;36m1\u001b[0m\u001b[0;34m]\u001b[0m\u001b[0;34m,\u001b[0m \u001b[0mlabels\u001b[0m\u001b[0;34m[\u001b[0m\u001b[0mi\u001b[0m\u001b[0;34m]\u001b[0m\u001b[0;34m)\u001b[0m\u001b[0;34m\u001b[0m\u001b[0;34m\u001b[0m\u001b[0m\n\u001b[0m\u001b[1;32m      8\u001b[0m     \u001b[0mdisplay\u001b[0m\u001b[0;34m(\u001b[0m\u001b[0mMath\u001b[0m\u001b[0;34m(\u001b[0m\u001b[0mtxt\u001b[0m\u001b[0;34m)\u001b[0m\u001b[0;34m)\u001b[0m\u001b[0;34m\u001b[0m\u001b[0;34m\u001b[0m\u001b[0m\n",
      "\u001b[0;31mIndexError\u001b[0m: list index out of range"
     ]
    }
   ],
   "source": [
    "from IPython.display import display, Math\n",
    "labels=[\"a\",\"b\"]\n",
    "for i in range(ndim):\n",
    "    mcmc = np.percentile(flat_samples[:, i], [16, 50, 84])\n",
    "    q = np.diff(mcmc)\n",
    "    txt = \"\\mathrm{{{3}}} = {0:.3f}_{{-{1:.3f}}}^{{{2:.3f}}}\"\n",
    "    txt = txt.format(mcmc[1], q[0], q[1], labels[i])\n",
    "    display(Math(txt))"
   ]
  },
  {
   "cell_type": "code",
   "execution_count": null,
   "metadata": {},
   "outputs": [],
   "source": []
  }
 ],
 "metadata": {
  "kernelspec": {
   "display_name": "Python 3",
   "language": "python",
   "name": "python3"
  },
  "language_info": {
   "codemirror_mode": {
    "name": "ipython",
    "version": 3
   },
   "file_extension": ".py",
   "mimetype": "text/x-python",
   "name": "python",
   "nbconvert_exporter": "python",
   "pygments_lexer": "ipython3",
   "version": "3.7.7"
  }
 },
 "nbformat": 4,
 "nbformat_minor": 4
}
