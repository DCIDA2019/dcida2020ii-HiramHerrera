{
 "cells": [
  {
   "cell_type": "code",
   "execution_count": null,
   "metadata": {},
   "outputs": [],
   "source": [
    "import numpy as np\n",
    "import matplotlib.pyplot as plt\n",
    "from astropy.table import Table\n",
    "from astropy.cosmology import FlatLambdaCDM\n",
    "from multiprocessing import Pool\n",
    "import multiprocess as mp\n",
    "import fitsio,glob,corner,emcee,os"
   ]
  },
  {
   "cell_type": "code",
   "execution_count": null,
   "metadata": {},
   "outputs": [],
   "source": [
    "lcparams_file='jla_likelihood_v6/data/jla_lcparams.txt'"
   ]
  },
  {
   "cell_type": "code",
   "execution_count": null,
   "metadata": {},
   "outputs": [],
   "source": [
    "z=np.genfromtxt(lcparams_file,usecols=1)\n",
    "data=np.genfromtxt(lcparams_file,usecols=np.arange(4,12,2),unpack=True)"
   ]
  },
  {
   "cell_type": "code",
   "execution_count": null,
   "metadata": {},
   "outputs": [],
   "source": [
    "mb,X1,C,thirdvar=data\n",
    "eta=np.array([mb,X1,C]).T.reshape(3*len(mb),)"
   ]
  },
  {
   "cell_type": "code",
   "execution_count": null,
   "metadata": {},
   "outputs": [],
   "source": [
    "def get_MB(thirdvar,MB,dMB):\n",
    "    if thirdvar<10:\n",
    "        return MB\n",
    "    return MB+dMB\n",
    "MB_vec=np.vectorize(get_MB)\n",
    "\n",
    "def kronecker_delta(i,j):\n",
    "    if i==j: return 1\n",
    "    return 0\n",
    "\n",
    "A0 = np.zeros((len(thirdvar),3*len(thirdvar)))\n",
    "A1 = np.zeros((len(thirdvar),3*len(thirdvar)))\n",
    "A2 = np.zeros((len(thirdvar),3*len(thirdvar)))\n",
    "for i in range(len(thirdvar)):\n",
    "    for j in range(3*len(thirdvar)):\n",
    "        A0[i,j]=kronecker_delta(3*i,j)\n",
    "        A1[i,j]=kronecker_delta(3*i,j-1)\n",
    "        A2[i,j]=kronecker_delta(3*i,j-2)"
   ]
  },
  {
   "cell_type": "code",
   "execution_count": null,
   "metadata": {},
   "outputs": [],
   "source": [
    "C_eta=np.sum([fitsio.read(cfile) for cfile in glob.glob('jla_likelihood_v6/covmat/C_*.fits')],axis=0)\n",
    "sigma_coh,sigma_lens,z_error=np.loadtxt('jla_likelihood_v6/covmat/sigma_mu.txt',unpack=True)\n",
    "sigma_z = (5*150/3e5)/(np.log(10)*z_error)\n",
    "diag_errors = np.diag(sigma_z**2+sigma_coh**2+sigma_lens**2)"
   ]
  },
  {
   "cell_type": "code",
   "execution_count": null,
   "metadata": {},
   "outputs": [],
   "source": [
    "def loglike(params):\n",
    "    Om,alpha,beta,Mb,dMb = params\n",
    "    A = A0+alpha*A1-beta*A2\n",
    "    MB = MB_vec(thirdvar,Mb,dMb)\n",
    "    mu_obs=mb-(MB-alpha*X1+beta*C)\n",
    "    covmat = np.matmul(np.matmul(A,C_eta),A.T)+diag_errors\n",
    "    inv_covmat = np.linalg.inv(covmat)\n",
    "    d_L = FlatLambdaCDM(H0=70, Om0=Om, Tcmb0=2.725).luminosity_distance(z)  \n",
    "    mu_mod = 5*np.log10(d_L.value/10e-6)\n",
    "    diff = mu_obs-mu_mod\n",
    "    return -0.5*np.matmul(diff.T,np.matmul(inv_covmat,diff))\n",
    "\n",
    "def priors(params):\n",
    "    p=True\n",
    "    for i,param in enumerate(params):\n",
    "        p &= plist[2*i]<param<plist[2*i+1]\n",
    "    if p==True:\n",
    "        return 0.0\n",
    "    return -np.inf\n",
    "\n",
    "def logpost(params):\n",
    "    prior = priors(params)\n",
    "    if not np.isfinite(prior):\n",
    "        return -np.inf\n",
    "    return prior + loglike(params)"
   ]
  },
  {
   "cell_type": "code",
   "execution_count": null,
   "metadata": {},
   "outputs": [],
   "source": [
    "ndim = 5\n",
    "nwalkers = ndim*30\n",
    "steps=500"
   ]
  },
  {
   "cell_type": "code",
   "execution_count": null,
   "metadata": {},
   "outputs": [],
   "source": [
    "inivals=[0.5,0.1,3,-10,0]\n",
    "plist=[0,1,-1,1,0,20,-30,0,-1,1]\n",
    "pos = inivals + 1e-1 * np.random.randn(nwalkers, ndim)"
   ]
  },
  {
   "cell_type": "code",
   "execution_count": null,
   "metadata": {},
   "outputs": [],
   "source": [
    "ncpu = mp.cpu_count()\n",
    "print(\"{0} CPUs\".format(ncpu))"
   ]
  },
  {
   "cell_type": "code",
   "execution_count": null,
   "metadata": {},
   "outputs": [],
   "source": [
    "filename = \"emcee.h5\"\n",
    "if os.path.exists(filename):\n",
    "    sampler = emcee.backends.HDFBackend(filename)\n",
    "else:\n",
    "    with mp.Pool() as pool:\n",
    "        backend.reset(nwalkers, ndim)\n",
    "        sampler = emcee.EnsembleSampler(nwalkers, ndim,logpost,pool=pool,backend=backend)\n",
    "        pos,prob,state=sampler.run_mcmc(pos, steps, progress=True)"
   ]
  },
  {
   "cell_type": "code",
   "execution_count": null,
   "metadata": {},
   "outputs": [],
   "source": [
    "chain = sampler.get_chain()\n",
    "fig, axes = plt.subplots(ndim, figsize=(10, 7), sharex=True)\n",
    "labels = [r'$\\Omega_m$',r'$\\alpha$',r'$\\beta$',r'$M_B$',r'$\\Delta_m$']\n",
    "for i in range(ndim):\n",
    "    ax = axes[i]\n",
    "    ax.plot(chain[:,:, i],'k', alpha=0.3)\n",
    "    ax.set_xlim(0, len(chain))\n",
    "    ax.set_ylabel(labels[i])\n",
    "    ax.yaxis.set_label_coords(-0.1, 0.5)\n",
    "    ax.grid(linestyle='--')\n",
    "\n",
    "axes[-1].set_xlabel(\"step number\");"
   ]
  },
  {
   "cell_type": "code",
   "execution_count": null,
   "metadata": {},
   "outputs": [],
   "source": [
    "fig = corner.corner(sampler.get_chain(discard=200, flat=True),labels=labels,bins=50,plot_datapoints=False,smooth=2.,smooth1d=2.,\n",
    "                    levels=(1.-np.exp(-0.5),1.-np.exp(-2.),1.-np.exp(-4.5)),quantiles=[.025,0.5,0.975],show_titles=True,truths=[0.295,0.141,3.101,-19.05, -0.070]);"
   ]
  },
  {
   "cell_type": "code",
   "execution_count": null,
   "metadata": {},
   "outputs": [],
   "source": [
    "args=np.median(sampler.get_chain(discard=200, flat=True),axis=0)\n",
    "truevals=np.array([0.295,0.141,3.101,-19.05, -0.070])\n",
    "args"
   ]
  },
  {
   "cell_type": "code",
   "execution_count": null,
   "metadata": {},
   "outputs": [],
   "source": [
    "args-truevals"
   ]
  },
  {
   "cell_type": "code",
   "execution_count": null,
   "metadata": {},
   "outputs": [],
   "source": [
    "-2*loglike(args)/(740-5)"
   ]
  },
  {
   "cell_type": "code",
   "execution_count": null,
   "metadata": {},
   "outputs": [],
   "source": [
    "z_mod=np.linspace(0,1.3,100)\n",
    "d_L = FlatLambdaCDM(H0=70, Om0=args[0], Tcmb0=2.725).luminosity_distance(z_mod)  \n",
    "mu_mod = 5*np.log10(d_L.value/10e-6)\n",
    "MB=MB_vec(thirdvar,args[3],args[4])\n",
    "mu_obs= mb-(MB-args[1]*X1+args[2]*C)\n",
    "\n",
    "plt.plot(z,mu_obs,'.',label='OBSERVED')\n",
    "plt.plot(z_mod,mu_mod,'k-',label='MODEL')\n",
    "plt.xlabel('z')\n",
    "plt.ylabel(r'$\\mu$')\n",
    "plt.legend();"
   ]
  },
  {
   "cell_type": "code",
   "execution_count": null,
   "metadata": {},
   "outputs": [],
   "source": [
    "d_L = FlatLambdaCDM(H0=70, Om0=args[0], Tcmb0=2.725).luminosity_distance(z)  \n",
    "mu_mod = 5*np.log10(d_L.value/10e-6)\n",
    "plt.plot(z,mu_obs-mu_mod,'.')\n",
    "plt.axhline(0,color='k',ls='--')\n",
    "plt.xlabel('z')\n",
    "plt.ylabel(r'$\\mu-\\mu_{\\rm{mod}}$');"
   ]
  }
 ],
 "metadata": {
  "kernelspec": {
   "display_name": "Python 3",
   "language": "python",
   "name": "python3"
  },
  "language_info": {
   "codemirror_mode": {
    "name": "ipython",
    "version": 3
   },
   "file_extension": ".py",
   "mimetype": "text/x-python",
   "name": "python",
   "nbconvert_exporter": "python",
   "pygments_lexer": "ipython3",
   "version": "3.8.3"
  }
 },
 "nbformat": 4,
 "nbformat_minor": 4
}
